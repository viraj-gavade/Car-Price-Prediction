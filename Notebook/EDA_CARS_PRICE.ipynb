{
 "cells": [
  {
   "cell_type": "markdown",
   "id": "66574894",
   "metadata": {},
   "source": [
    "## EDA CARS PRICE PREDRICTION"
   ]
  },
  {
   "cell_type": "markdown",
   "id": "8f35327c",
   "metadata": {},
   "source": [
    "### Importing the libraries\n"
   ]
  },
  {
   "cell_type": "code",
   "execution_count": 35,
   "id": "1c403b2b",
   "metadata": {},
   "outputs": [],
   "source": [
    "import numpy as np\n",
    "import pandas as pd\n",
    "import seaborn as sns\n",
    "import matplotlib.pyplot as plt\n",
    "%matplotlib inline\n",
    "import warnings\n",
    "warnings.filterwarnings('ignore')"
   ]
  },
  {
   "cell_type": "code",
   "execution_count": 36,
   "id": "730efa1c",
   "metadata": {},
   "outputs": [
    {
     "name": "stdout",
     "output_type": "stream",
     "text": [
      "/run/media/viraj-dev/Viraj Local Drive/Machine Learning  Bootcamp - Krish Naik/Machine Learning Projects/Car Price Prediction/Notebook\n"
     ]
    }
   ],
   "source": [
    "import os\n",
    "print(os.getcwd())\n"
   ]
  },
  {
   "cell_type": "code",
   "execution_count": 37,
   "id": "88b961ee",
   "metadata": {},
   "outputs": [],
   "source": [
    "cars_df = pd.read_csv('cars.csv')\n"
   ]
  },
  {
   "cell_type": "code",
   "execution_count": 38,
   "id": "9dae9a8c",
   "metadata": {},
   "outputs": [
    {
     "data": {
      "text/html": [
       "<div>\n",
       "<style scoped>\n",
       "    .dataframe tbody tr th:only-of-type {\n",
       "        vertical-align: middle;\n",
       "    }\n",
       "\n",
       "    .dataframe tbody tr th {\n",
       "        vertical-align: top;\n",
       "    }\n",
       "\n",
       "    .dataframe thead th {\n",
       "        text-align: right;\n",
       "    }\n",
       "</style>\n",
       "<table border=\"1\" class=\"dataframe\">\n",
       "  <thead>\n",
       "    <tr style=\"text-align: right;\">\n",
       "      <th></th>\n",
       "      <th>name</th>\n",
       "      <th>year</th>\n",
       "      <th>selling_price</th>\n",
       "      <th>km_driven</th>\n",
       "      <th>fuel</th>\n",
       "      <th>seller_type</th>\n",
       "      <th>transmission</th>\n",
       "      <th>owner</th>\n",
       "    </tr>\n",
       "  </thead>\n",
       "  <tbody>\n",
       "    <tr>\n",
       "      <th>0</th>\n",
       "      <td>Maruti 800 AC</td>\n",
       "      <td>2007</td>\n",
       "      <td>60000</td>\n",
       "      <td>70000</td>\n",
       "      <td>Petrol</td>\n",
       "      <td>Individual</td>\n",
       "      <td>Manual</td>\n",
       "      <td>First Owner</td>\n",
       "    </tr>\n",
       "    <tr>\n",
       "      <th>1</th>\n",
       "      <td>Maruti Wagon R LXI Minor</td>\n",
       "      <td>2007</td>\n",
       "      <td>135000</td>\n",
       "      <td>50000</td>\n",
       "      <td>Petrol</td>\n",
       "      <td>Individual</td>\n",
       "      <td>Manual</td>\n",
       "      <td>First Owner</td>\n",
       "    </tr>\n",
       "    <tr>\n",
       "      <th>2</th>\n",
       "      <td>Hyundai Verna 1.6 SX</td>\n",
       "      <td>2012</td>\n",
       "      <td>600000</td>\n",
       "      <td>100000</td>\n",
       "      <td>Diesel</td>\n",
       "      <td>Individual</td>\n",
       "      <td>Manual</td>\n",
       "      <td>First Owner</td>\n",
       "    </tr>\n",
       "    <tr>\n",
       "      <th>3</th>\n",
       "      <td>Datsun RediGO T Option</td>\n",
       "      <td>2017</td>\n",
       "      <td>250000</td>\n",
       "      <td>46000</td>\n",
       "      <td>Petrol</td>\n",
       "      <td>Individual</td>\n",
       "      <td>Manual</td>\n",
       "      <td>First Owner</td>\n",
       "    </tr>\n",
       "    <tr>\n",
       "      <th>4</th>\n",
       "      <td>Honda Amaze VX i-DTEC</td>\n",
       "      <td>2014</td>\n",
       "      <td>450000</td>\n",
       "      <td>141000</td>\n",
       "      <td>Diesel</td>\n",
       "      <td>Individual</td>\n",
       "      <td>Manual</td>\n",
       "      <td>Second Owner</td>\n",
       "    </tr>\n",
       "  </tbody>\n",
       "</table>\n",
       "</div>"
      ],
      "text/plain": [
       "                       name  year  selling_price  km_driven    fuel  \\\n",
       "0             Maruti 800 AC  2007          60000      70000  Petrol   \n",
       "1  Maruti Wagon R LXI Minor  2007         135000      50000  Petrol   \n",
       "2      Hyundai Verna 1.6 SX  2012         600000     100000  Diesel   \n",
       "3    Datsun RediGO T Option  2017         250000      46000  Petrol   \n",
       "4     Honda Amaze VX i-DTEC  2014         450000     141000  Diesel   \n",
       "\n",
       "  seller_type transmission         owner  \n",
       "0  Individual       Manual   First Owner  \n",
       "1  Individual       Manual   First Owner  \n",
       "2  Individual       Manual   First Owner  \n",
       "3  Individual       Manual   First Owner  \n",
       "4  Individual       Manual  Second Owner  "
      ]
     },
     "execution_count": 38,
     "metadata": {},
     "output_type": "execute_result"
    }
   ],
   "source": [
    "cars_df.head()"
   ]
  },
  {
   "cell_type": "code",
   "execution_count": 39,
   "id": "365eeb93",
   "metadata": {},
   "outputs": [
    {
     "data": {
      "text/plain": [
       "(4340, 8)"
      ]
     },
     "execution_count": 39,
     "metadata": {},
     "output_type": "execute_result"
    }
   ],
   "source": [
    "cars_df.shape"
   ]
  },
  {
   "cell_type": "markdown",
   "id": "6eaf15b6",
   "metadata": {},
   "source": [
    "#### Checking the null values"
   ]
  },
  {
   "cell_type": "code",
   "execution_count": 40,
   "id": "cf3efcd8",
   "metadata": {},
   "outputs": [
    {
     "data": {
      "text/plain": [
       "name             0\n",
       "year             0\n",
       "selling_price    0\n",
       "km_driven        0\n",
       "fuel             0\n",
       "seller_type      0\n",
       "transmission     0\n",
       "owner            0\n",
       "dtype: int64"
      ]
     },
     "execution_count": 40,
     "metadata": {},
     "output_type": "execute_result"
    }
   ],
   "source": [
    "cars_df.isnull().sum()"
   ]
  },
  {
   "cell_type": "markdown",
   "id": "2b302704",
   "metadata": {},
   "source": [
    "#### Checking the duplicated values "
   ]
  },
  {
   "cell_type": "code",
   "execution_count": 41,
   "id": "912678ec",
   "metadata": {},
   "outputs": [
    {
     "data": {
      "text/plain": [
       "Index([  13,   14,   15,   16,   17,   18,   19,   20,   21,   22,\n",
       "       ...\n",
       "       4302, 4303, 4304, 4305, 4306, 4307, 4308, 4309, 4310, 4311],\n",
       "      dtype='int64', length=763)"
      ]
     },
     "execution_count": 41,
     "metadata": {},
     "output_type": "execute_result"
    }
   ],
   "source": [
    "rows_list = cars_df[cars_df.duplicated()].index\n",
    "rows_list"
   ]
  },
  {
   "cell_type": "markdown",
   "id": "8b960afd",
   "metadata": {},
   "source": [
    "#### Dropping all the duplicated values"
   ]
  },
  {
   "cell_type": "code",
   "execution_count": 42,
   "id": "d5d32d6c",
   "metadata": {},
   "outputs": [],
   "source": [
    "cars_df = cars_df.drop_duplicates()"
   ]
  },
  {
   "cell_type": "code",
   "execution_count": 43,
   "id": "af782a8c",
   "metadata": {},
   "outputs": [
    {
     "data": {
      "text/plain": [
       "0"
      ]
     },
     "execution_count": 43,
     "metadata": {},
     "output_type": "execute_result"
    }
   ],
   "source": [
    "cars_df.duplicated().sum()"
   ]
  },
  {
   "cell_type": "markdown",
   "id": "993ef22c",
   "metadata": {},
   "source": [
    "## Checking the data typs"
   ]
  },
  {
   "cell_type": "code",
   "execution_count": null,
   "id": "fa1e4ace",
   "metadata": {},
   "outputs": [
    {
     "name": "stdout",
     "output_type": "stream",
     "text": [
      "<class 'pandas.core.frame.DataFrame'>\n",
      "Index: 3577 entries, 0 to 4339\n",
      "Data columns (total 8 columns):\n",
      " #   Column         Non-Null Count  Dtype \n",
      "---  ------         --------------  ----- \n",
      " 0   name           3577 non-null   object\n",
      " 1   year           3577 non-null   int64 \n",
      " 2   selling_price  3577 non-null   int64 \n",
      " 3   km_driven      3577 non-null   int64 \n",
      " 4   fuel           3577 non-null   object\n",
      " 5   seller_type    3577 non-null   object\n",
      " 6   transmission   3577 non-null   object\n",
      " 7   owner          3577 non-null   object\n",
      "dtypes: int64(3), object(5)\n",
      "memory usage: 251.5+ KB\n"
     ]
    },
    {
     "data": {
      "text/html": [
       "<div>\n",
       "<style scoped>\n",
       "    .dataframe tbody tr th:only-of-type {\n",
       "        vertical-align: middle;\n",
       "    }\n",
       "\n",
       "    .dataframe tbody tr th {\n",
       "        vertical-align: top;\n",
       "    }\n",
       "\n",
       "    .dataframe thead th {\n",
       "        text-align: right;\n",
       "    }\n",
       "</style>\n",
       "<table border=\"1\" class=\"dataframe\">\n",
       "  <thead>\n",
       "    <tr style=\"text-align: right;\">\n",
       "      <th></th>\n",
       "      <th>name</th>\n",
       "      <th>year</th>\n",
       "      <th>selling_price</th>\n",
       "      <th>km_driven</th>\n",
       "      <th>fuel</th>\n",
       "      <th>seller_type</th>\n",
       "      <th>transmission</th>\n",
       "      <th>owner</th>\n",
       "    </tr>\n",
       "  </thead>\n",
       "  <tbody>\n",
       "    <tr>\n",
       "      <th>0</th>\n",
       "      <td>Maruti 800 AC</td>\n",
       "      <td>2007</td>\n",
       "      <td>60000</td>\n",
       "      <td>70000</td>\n",
       "      <td>Petrol</td>\n",
       "      <td>Individual</td>\n",
       "      <td>Manual</td>\n",
       "      <td>First Owner</td>\n",
       "    </tr>\n",
       "    <tr>\n",
       "      <th>1</th>\n",
       "      <td>Maruti Wagon R LXI Minor</td>\n",
       "      <td>2007</td>\n",
       "      <td>135000</td>\n",
       "      <td>50000</td>\n",
       "      <td>Petrol</td>\n",
       "      <td>Individual</td>\n",
       "      <td>Manual</td>\n",
       "      <td>First Owner</td>\n",
       "    </tr>\n",
       "    <tr>\n",
       "      <th>2</th>\n",
       "      <td>Hyundai Verna 1.6 SX</td>\n",
       "      <td>2012</td>\n",
       "      <td>600000</td>\n",
       "      <td>100000</td>\n",
       "      <td>Diesel</td>\n",
       "      <td>Individual</td>\n",
       "      <td>Manual</td>\n",
       "      <td>First Owner</td>\n",
       "    </tr>\n",
       "    <tr>\n",
       "      <th>3</th>\n",
       "      <td>Datsun RediGO T Option</td>\n",
       "      <td>2017</td>\n",
       "      <td>250000</td>\n",
       "      <td>46000</td>\n",
       "      <td>Petrol</td>\n",
       "      <td>Individual</td>\n",
       "      <td>Manual</td>\n",
       "      <td>First Owner</td>\n",
       "    </tr>\n",
       "    <tr>\n",
       "      <th>4</th>\n",
       "      <td>Honda Amaze VX i-DTEC</td>\n",
       "      <td>2014</td>\n",
       "      <td>450000</td>\n",
       "      <td>141000</td>\n",
       "      <td>Diesel</td>\n",
       "      <td>Individual</td>\n",
       "      <td>Manual</td>\n",
       "      <td>Second Owner</td>\n",
       "    </tr>\n",
       "    <tr>\n",
       "      <th>...</th>\n",
       "      <td>...</td>\n",
       "      <td>...</td>\n",
       "      <td>...</td>\n",
       "      <td>...</td>\n",
       "      <td>...</td>\n",
       "      <td>...</td>\n",
       "      <td>...</td>\n",
       "      <td>...</td>\n",
       "    </tr>\n",
       "    <tr>\n",
       "      <th>4335</th>\n",
       "      <td>Hyundai i20 Magna 1.4 CRDi (Diesel)</td>\n",
       "      <td>2014</td>\n",
       "      <td>409999</td>\n",
       "      <td>80000</td>\n",
       "      <td>Diesel</td>\n",
       "      <td>Individual</td>\n",
       "      <td>Manual</td>\n",
       "      <td>Second Owner</td>\n",
       "    </tr>\n",
       "    <tr>\n",
       "      <th>4336</th>\n",
       "      <td>Hyundai i20 Magna 1.4 CRDi</td>\n",
       "      <td>2014</td>\n",
       "      <td>409999</td>\n",
       "      <td>80000</td>\n",
       "      <td>Diesel</td>\n",
       "      <td>Individual</td>\n",
       "      <td>Manual</td>\n",
       "      <td>Second Owner</td>\n",
       "    </tr>\n",
       "    <tr>\n",
       "      <th>4337</th>\n",
       "      <td>Maruti 800 AC BSIII</td>\n",
       "      <td>2009</td>\n",
       "      <td>110000</td>\n",
       "      <td>83000</td>\n",
       "      <td>Petrol</td>\n",
       "      <td>Individual</td>\n",
       "      <td>Manual</td>\n",
       "      <td>Second Owner</td>\n",
       "    </tr>\n",
       "    <tr>\n",
       "      <th>4338</th>\n",
       "      <td>Hyundai Creta 1.6 CRDi SX Option</td>\n",
       "      <td>2016</td>\n",
       "      <td>865000</td>\n",
       "      <td>90000</td>\n",
       "      <td>Diesel</td>\n",
       "      <td>Individual</td>\n",
       "      <td>Manual</td>\n",
       "      <td>First Owner</td>\n",
       "    </tr>\n",
       "    <tr>\n",
       "      <th>4339</th>\n",
       "      <td>Renault KWID RXT</td>\n",
       "      <td>2016</td>\n",
       "      <td>225000</td>\n",
       "      <td>40000</td>\n",
       "      <td>Petrol</td>\n",
       "      <td>Individual</td>\n",
       "      <td>Manual</td>\n",
       "      <td>First Owner</td>\n",
       "    </tr>\n",
       "  </tbody>\n",
       "</table>\n",
       "<p>3577 rows × 8 columns</p>\n",
       "</div>"
      ],
      "text/plain": [
       "                                     name  year  selling_price  km_driven  \\\n",
       "0                           Maruti 800 AC  2007          60000      70000   \n",
       "1                Maruti Wagon R LXI Minor  2007         135000      50000   \n",
       "2                    Hyundai Verna 1.6 SX  2012         600000     100000   \n",
       "3                  Datsun RediGO T Option  2017         250000      46000   \n",
       "4                   Honda Amaze VX i-DTEC  2014         450000     141000   \n",
       "...                                   ...   ...            ...        ...   \n",
       "4335  Hyundai i20 Magna 1.4 CRDi (Diesel)  2014         409999      80000   \n",
       "4336           Hyundai i20 Magna 1.4 CRDi  2014         409999      80000   \n",
       "4337                  Maruti 800 AC BSIII  2009         110000      83000   \n",
       "4338     Hyundai Creta 1.6 CRDi SX Option  2016         865000      90000   \n",
       "4339                     Renault KWID RXT  2016         225000      40000   \n",
       "\n",
       "        fuel seller_type transmission         owner  \n",
       "0     Petrol  Individual       Manual   First Owner  \n",
       "1     Petrol  Individual       Manual   First Owner  \n",
       "2     Diesel  Individual       Manual   First Owner  \n",
       "3     Petrol  Individual       Manual   First Owner  \n",
       "4     Diesel  Individual       Manual  Second Owner  \n",
       "...      ...         ...          ...           ...  \n",
       "4335  Diesel  Individual       Manual  Second Owner  \n",
       "4336  Diesel  Individual       Manual  Second Owner  \n",
       "4337  Petrol  Individual       Manual  Second Owner  \n",
       "4338  Diesel  Individual       Manual   First Owner  \n",
       "4339  Petrol  Individual       Manual   First Owner  \n",
       "\n",
       "[3577 rows x 8 columns]"
      ]
     },
     "execution_count": 44,
     "metadata": {},
     "output_type": "execute_result"
    }
   ],
   "source": [
    "cars_df.info()"
   ]
  },
  {
   "cell_type": "code",
   "execution_count": 45,
   "id": "c63c935f",
   "metadata": {},
   "outputs": [
    {
     "data": {
      "text/plain": [
       "name             1491\n",
       "year               27\n",
       "selling_price     445\n",
       "km_driven         770\n",
       "fuel                5\n",
       "seller_type         3\n",
       "transmission        2\n",
       "owner               5\n",
       "dtype: int64"
      ]
     },
     "execution_count": 45,
     "metadata": {},
     "output_type": "execute_result"
    }
   ],
   "source": [
    "## Checking the unique values \n",
    "cars_df.nunique()"
   ]
  },
  {
   "cell_type": "code",
   "execution_count": 46,
   "id": "f98157a6",
   "metadata": {},
   "outputs": [
    {
     "data": {
      "text/html": [
       "<div>\n",
       "<style scoped>\n",
       "    .dataframe tbody tr th:only-of-type {\n",
       "        vertical-align: middle;\n",
       "    }\n",
       "\n",
       "    .dataframe tbody tr th {\n",
       "        vertical-align: top;\n",
       "    }\n",
       "\n",
       "    .dataframe thead th {\n",
       "        text-align: right;\n",
       "    }\n",
       "</style>\n",
       "<table border=\"1\" class=\"dataframe\">\n",
       "  <thead>\n",
       "    <tr style=\"text-align: right;\">\n",
       "      <th></th>\n",
       "      <th>year</th>\n",
       "      <th>selling_price</th>\n",
       "      <th>km_driven</th>\n",
       "    </tr>\n",
       "  </thead>\n",
       "  <tbody>\n",
       "    <tr>\n",
       "      <th>count</th>\n",
       "      <td>3577.000000</td>\n",
       "      <td>3.577000e+03</td>\n",
       "      <td>3577.000000</td>\n",
       "    </tr>\n",
       "    <tr>\n",
       "      <th>mean</th>\n",
       "      <td>2012.962538</td>\n",
       "      <td>4.739125e+05</td>\n",
       "      <td>69250.545709</td>\n",
       "    </tr>\n",
       "    <tr>\n",
       "      <th>std</th>\n",
       "      <td>4.251759</td>\n",
       "      <td>5.093018e+05</td>\n",
       "      <td>47579.940016</td>\n",
       "    </tr>\n",
       "    <tr>\n",
       "      <th>min</th>\n",
       "      <td>1992.000000</td>\n",
       "      <td>2.000000e+04</td>\n",
       "      <td>1.000000</td>\n",
       "    </tr>\n",
       "    <tr>\n",
       "      <th>25%</th>\n",
       "      <td>2010.000000</td>\n",
       "      <td>2.000000e+05</td>\n",
       "      <td>36000.000000</td>\n",
       "    </tr>\n",
       "    <tr>\n",
       "      <th>50%</th>\n",
       "      <td>2013.000000</td>\n",
       "      <td>3.500000e+05</td>\n",
       "      <td>60000.000000</td>\n",
       "    </tr>\n",
       "    <tr>\n",
       "      <th>75%</th>\n",
       "      <td>2016.000000</td>\n",
       "      <td>6.000000e+05</td>\n",
       "      <td>90000.000000</td>\n",
       "    </tr>\n",
       "    <tr>\n",
       "      <th>max</th>\n",
       "      <td>2020.000000</td>\n",
       "      <td>8.900000e+06</td>\n",
       "      <td>806599.000000</td>\n",
       "    </tr>\n",
       "  </tbody>\n",
       "</table>\n",
       "</div>"
      ],
      "text/plain": [
       "              year  selling_price      km_driven\n",
       "count  3577.000000   3.577000e+03    3577.000000\n",
       "mean   2012.962538   4.739125e+05   69250.545709\n",
       "std       4.251759   5.093018e+05   47579.940016\n",
       "min    1992.000000   2.000000e+04       1.000000\n",
       "25%    2010.000000   2.000000e+05   36000.000000\n",
       "50%    2013.000000   3.500000e+05   60000.000000\n",
       "75%    2016.000000   6.000000e+05   90000.000000\n",
       "max    2020.000000   8.900000e+06  806599.000000"
      ]
     },
     "execution_count": 46,
     "metadata": {},
     "output_type": "execute_result"
    }
   ],
   "source": [
    "cars_df.describe()"
   ]
  },
  {
   "cell_type": "code",
   "execution_count": 48,
   "id": "6a365a81",
   "metadata": {},
   "outputs": [
    {
     "data": {
      "text/html": [
       "<div>\n",
       "<style scoped>\n",
       "    .dataframe tbody tr th:only-of-type {\n",
       "        vertical-align: middle;\n",
       "    }\n",
       "\n",
       "    .dataframe tbody tr th {\n",
       "        vertical-align: top;\n",
       "    }\n",
       "\n",
       "    .dataframe thead th {\n",
       "        text-align: right;\n",
       "    }\n",
       "</style>\n",
       "<table border=\"1\" class=\"dataframe\">\n",
       "  <thead>\n",
       "    <tr style=\"text-align: right;\">\n",
       "      <th></th>\n",
       "      <th>name</th>\n",
       "      <th>year</th>\n",
       "      <th>selling_price</th>\n",
       "      <th>km_driven</th>\n",
       "      <th>fuel</th>\n",
       "      <th>seller_type</th>\n",
       "      <th>transmission</th>\n",
       "      <th>owner</th>\n",
       "    </tr>\n",
       "  </thead>\n",
       "  <tbody>\n",
       "    <tr>\n",
       "      <th>0</th>\n",
       "      <td>Maruti 800 AC</td>\n",
       "      <td>2007</td>\n",
       "      <td>60000</td>\n",
       "      <td>70000</td>\n",
       "      <td>Petrol</td>\n",
       "      <td>Individual</td>\n",
       "      <td>Manual</td>\n",
       "      <td>First Owner</td>\n",
       "    </tr>\n",
       "    <tr>\n",
       "      <th>1</th>\n",
       "      <td>Maruti Wagon R LXI Minor</td>\n",
       "      <td>2007</td>\n",
       "      <td>135000</td>\n",
       "      <td>50000</td>\n",
       "      <td>Petrol</td>\n",
       "      <td>Individual</td>\n",
       "      <td>Manual</td>\n",
       "      <td>First Owner</td>\n",
       "    </tr>\n",
       "    <tr>\n",
       "      <th>2</th>\n",
       "      <td>Hyundai Verna 1.6 SX</td>\n",
       "      <td>2012</td>\n",
       "      <td>600000</td>\n",
       "      <td>100000</td>\n",
       "      <td>Diesel</td>\n",
       "      <td>Individual</td>\n",
       "      <td>Manual</td>\n",
       "      <td>First Owner</td>\n",
       "    </tr>\n",
       "    <tr>\n",
       "      <th>3</th>\n",
       "      <td>Datsun RediGO T Option</td>\n",
       "      <td>2017</td>\n",
       "      <td>250000</td>\n",
       "      <td>46000</td>\n",
       "      <td>Petrol</td>\n",
       "      <td>Individual</td>\n",
       "      <td>Manual</td>\n",
       "      <td>First Owner</td>\n",
       "    </tr>\n",
       "    <tr>\n",
       "      <th>4</th>\n",
       "      <td>Honda Amaze VX i-DTEC</td>\n",
       "      <td>2014</td>\n",
       "      <td>450000</td>\n",
       "      <td>141000</td>\n",
       "      <td>Diesel</td>\n",
       "      <td>Individual</td>\n",
       "      <td>Manual</td>\n",
       "      <td>Second Owner</td>\n",
       "    </tr>\n",
       "  </tbody>\n",
       "</table>\n",
       "</div>"
      ],
      "text/plain": [
       "                       name  year  selling_price  km_driven    fuel  \\\n",
       "0             Maruti 800 AC  2007          60000      70000  Petrol   \n",
       "1  Maruti Wagon R LXI Minor  2007         135000      50000  Petrol   \n",
       "2      Hyundai Verna 1.6 SX  2012         600000     100000  Diesel   \n",
       "3    Datsun RediGO T Option  2017         250000      46000  Petrol   \n",
       "4     Honda Amaze VX i-DTEC  2014         450000     141000  Diesel   \n",
       "\n",
       "  seller_type transmission         owner  \n",
       "0  Individual       Manual   First Owner  \n",
       "1  Individual       Manual   First Owner  \n",
       "2  Individual       Manual   First Owner  \n",
       "3  Individual       Manual   First Owner  \n",
       "4  Individual       Manual  Second Owner  "
      ]
     },
     "execution_count": 48,
     "metadata": {},
     "output_type": "execute_result"
    }
   ],
   "source": [
    "cars_df.head()"
   ]
  },
  {
   "cell_type": "code",
   "execution_count": 53,
   "id": "130690cc",
   "metadata": {},
   "outputs": [
    {
     "name": "stdout",
     "output_type": "stream",
     "text": [
      "Unique Values in the Car name column:     Maruti 800 ACMaruti Wagon R LXI MinorHyundai Verna 1.6 SXDatsun RediGO T OptionHonda Amaze VX i-DTECMaruti Alto LX BSIIIHyundai Xcent 1.2 Kappa STata Indigo Grand PetrolHyundai Creta 1.6 VTVT SMaruti Celerio Green VXIChevrolet Sail 1.2 BaseToyota Corolla Altis 1.8 VL CVTMaruti Ciaz VXi PlusHyundai Venue SX Opt DieselChevrolet Enjoy TCDi LTZ 7 SeaterJaguar XF 2.2 Litre LuxuryMercedes-Benz New C-Class 220 CDI ATMaruti Vitara Brezza ZDi Plus AMTAudi Q5 2.0 TDIHonda City V MTTata Tigor 1.2 Revotron XTAudi A6 2.0 TDI  Design EditionMercedes-Benz New C-Class C 220 CDI AvantgardeSkoda Superb Ambition 2.0 TDI CR ATToyota Corolla Altis G ATToyota Innova 2.5 G (Diesel) 7 SeaterJeep Compass 1.4 Sport Plus BSIVMercedes-Benz E-Class E 200 CGI EleganceHyundai i10 Magna 1.1LBMW 3 Series 320d Sport LineAudi Q7 35 TDI Quattro PremiumHyundai Elantra CRDi SMahindra Scorpio 1.99 S10Honda City i DTEC VMaruti Wagon R VXI BS IV with ABSMaruti Wagon R VXI BS IVMahindra Scorpio LXHyundai Santro Xing GLSHyundai Grand i10 1.2 Kappa AstaMaruti Alto LXiMaruti Swift Dzire VDI OptionalMaruti Eeco 5 Seater AC BSIVHyundai i20 Sportz 1.4 CRDiMaruti Omni Maruti Omni MPI STD BSIII 5-STR W/ IMMOBILISERMaruti Swift ZDi BSIVHyundai i20 2015-2017 Sportz Option 1.4 CRDiMahindra Jeep CL 500 MDIHonda City i DTEC VXTata Indica DLSHyundai EON Magna PlusToyota Etios GDChevrolet Tavera Neo LS B3 - 7(C) seats BSIIIToyota Corolla Altis Diesel D4DGMahindra Scorpio 1.99 S6 PlusTata Indigo Classic DicorToyota Innova 2.5 V Diesel 8-seaterTata Indica Vista Quadrajet LSMaruti Swift 1.3 VXiFord EcoSport 1.5 Diesel Titanium BSIVMaruti Ciaz 1.3 DeltaHonda Civic 1.8 V ATHyundai i10 Sportz 1.2Skoda Rapid 1.5 TDI EleganceHyundai Getz GLSNissan Terrano XLHyundai Grand i10 CRDi SportzHyundai Elite i20 Diesel EraHonda Amaze S i-VTECHonda Brio S MTHyundai Creta 1.6 SX OptionMercedes-Benz S-Class S 350d Connoisseurs EditionMahindra XUV500 W8 2WDRenault Duster 85PS Diesel RxL OptionalHyundai Santro Xing XOMahindra Bolero 2011-2019 SLEAudi A6 2.0 TDI Premium PlusFiat Avventura MULTIJET EmotionAudi A8 4.2 TDIDatsun RediGO 1.0 SVolkswagen Jetta 1.4 TSI ComfortlineAudi A4 2.0 TDI 177 Bhp Premium PlusMercedes-Benz E-Class Exclusive E 200 BSIVBMW X1 sDrive 20d xLineVolvo V40 D3 R DesignMaruti SX4 Zxi BSIIIBMW 7 Series 730LdMahindra Bolero Power Plus SLXHyundai Sonata CRDi M/TNissan Micra Active XV PetrolMahindra Xylo D4Hyundai Elite i20 Sportz Plus Dual Tone BSIVRenault KWID RXTMahindra Xylo E4 BS IIIMaruti SX4 ZXI MT BSIVHyundai Creta 1.4 CRDi SMaruti Swift Dzire VDIHyundai Verna 1.6 VTVT AT S OptionMahindra Scorpio LX BSIVMaruti SX4 Vxi BSIIIMaruti Ertiga VDIChevrolet Beat DieselMaruti Zen LXMaruti Baleno Delta 1.2Maruti Swift Vdi BSIIITata Nano Lx BSIVToyota Innova 2.5 GX (Diesel) 8 SeaterMaruti Ertiga SHVS VDIHyundai Creta 1.6 CRDi SXHonda Amaze S i-VtechTata Indica Vista Aqua 1.4 TDIChevrolet Tavera Neo 2 LS B4 7 Str BSIIIChevrolet Cruze LTZFord Figo Aspire 1.2 Ti-VCT Titanium PlusFord EcoSport 1.5 Diesel Titanium Plus BSIVHyundai i10 Sportz 1.1LMaruti 800 StdChevrolet Spark 1.0 LSHyundai EON Era PlusTata Indica Vista Aqua TDI BSIIIHyundai Santro LP zipPlusTata Bolt Quadrajet XEMaruti 800 AC BSIIIHyundai i20 Magna 1.2Hyundai i20 1.2 AstaMaruti Ciaz VDi PlusHyundai i20 Asta 1.4 CRDiHyundai Santro LEMaruti Vitara Brezza VDiHyundai Santro Xing XL eRLX Euro IIIHyundai Getz 1.3 GLSMahindra Quanto C8Chevrolet Tavera Neo 3 LS 7 C BSIIIMaruti Wagon R DUO LPGMaruti Wagon R LXIChevrolet Enjoy 1.3 TCDi LS 8Honda City i VTEC SVJaguar XJ 5.0 L V8 SuperchargedHonda Brio E MTMaruti Swift VVT ZXITata Indigo CR4Hyundai i10 Asta ATChevrolet Beat LTMaruti Swift VDI BSIVRenault Duster 110PS Diesel RxZHyundai Santro Xing XGMaruti Swift Dzire ZXI PlusMaruti Alto K10 LXI CNGMaruti 800 Std BSIITata Nano LX SESkoda Rapid 1.6 MPI Ambition With Alloy WheelMaruti Alto K10 VXIMaruti Ciaz 1.4 DeltaMaruti Alto LXHyundai i20 AstaTata Nexon 1.2 Revotron XMMaruti Zen DVolkswagen Vento Celeste 1.5 TDI Highline ATMaruti Eeco 7 Seater Standard BSIVHonda City 1.5 EXIMaruti SX4 Zxi with Leather BSIIIFord Figo Diesel TitaniumMaruti Swift Dzire VDiMahindra Xylo E4Maruti Esteem Vxi - BSIIIHyundai i20 1.2 SportzChevrolet Beat Diesel LTChevrolet Cruze LTZ ATNissan Micra XLBMW 5 Series 520d Luxury LineHyundai EON Era Plus OptionFiat Linea T Jet EmotionRenault Scala RxLFord Figo Petrol TitaniumMaruti Ciaz ZDi SHVSSkoda Rapid 1.5 TDI Ambition BSIVMahindra XUV500 W6 2WDMahindra XUV300 W8 OptionMaruti Ertiga SHVS ZDINissan Terrano XE DMaruti S-Cross FaceliftHyundai i20 Magna 1.4 CRDi (Diesel)Mercedes-Benz New C-Class C 220 CDI BE AvantgareVolkswagen Ameo 1.5 TDI HighlineMaruti Omni LPG CARGO BSIII W IMMOBILISERHyundai Verna i (Petrol)Mahindra Renault Logan 1.5 DLSChevrolet Optra Magnum 2.0 LS BSIIIMahindra Scorpio S11 BSIVHyundai i20 Active 1.2 SXMaruti SX4 Celebration DieselHyundai Grand i10 MagnaMaruti Alto LXi BSIIIHyundai i10 EraToyota Innova 2.5 V Diesel 7-seaterHonda Mobilio V i DTECToyota Innova 2.5 G (Diesel) 7 Seater BS IVTata Indica V2 2001-2011 DLS BSIIITata Indica Vista TDI LSChevrolet Beat Diesel LSTata Zest Quadrajet 1.3 75PS XESkoda Fabia 1.2L Diesel AmbienteToyota Innova 2.5 VX (Diesel) 8 SeaterHyundai Grand i10 1.2 CRDi AstaDatsun GO Plus T Option PetrolMaruti Omni MPI STD BSIVMaruti Baleno Alpha 1.2Ford Fiesta Classic 1.4 SXI DuratorqHyundai Elite i20 Asta Option BSIVHyundai Grand i10 CRDi MagnaHyundai Santro Xing GL PlusTata Sumo GX TC 7 Str BSIIIMaruti Vitara Brezza LDi OptionHonda Jazz SHyundai i20 1.4 SportzMaruti Ertiga SHVS ZDI PlusTata Sumo SE Plus BSIIIMaruti Ertiga VXIHyundai i20 1.4 Magna ABSHyundai Getz GLMaruti Wagon R LX BS IVHyundai i20 1.2 SpotzMaruti Alto 800 VXIHyundai i20 Asta (o)Hyundai Verna 1.6 SX CRDi (O)Mahindra Xylo D2 BSIVMahindra Bolero SLX 2WD BSIIIMaruti Ertiga VXI ABSHonda Brio 1.2 E MTToyota Etios Liva GMaruti Alto 800 LXIMaruti Swift Dzire 1.2 Vxi BSIVMahindra Scorpio VLS AT 2.2 mHAWKMahindra Bolero SLXMahindra XUV500 W11 Option AWDTata Tiago 1.2 Revotron XZMahindra Marazzo M8 8StrRenault Duster 110PS Diesel RxLMaruti Wagon R VXIChevrolet Spark 1.0 LTMaruti Baleno AlphaHyundai EON 1.0 Kappa Magna PlusFord Figo Aspire 1.2 Ti-VCT TrendFord Figo Aspire FaceliftHyundai Verna 1.4 VTVTChevrolet Sail 1.2 LT ABSHonda City i-DTEC SVMahindra Bolero Power Plus Plus AC BSIV PSHyundai Grand i10 1.2 Kappa Sportz OptionMaruti Baleno Sigma 1.2Maruti A-Star VxiDatsun GO ASkoda Yeti Ambition 4WDMaruti Zen LXi BSIIHyundai Verna CRDi 1.6 EXFord Aspire Titanium Diesel BSIVBMW 3 Series 320d SportBMW X1 sDrive 20d ExclusiveToyota Innova Crysta 2.4 VX MTChevrolet Tavera Neo 3 10 Seats BSIVMitsubishi Outlander 2.4Maruti Baleno Alpha 1.3Ford Figo Aspire 1.5 TDCi TitaniumFord Endeavour Titanium 4X2Mahindra Scorpio 2.6 Turbo 9 StrMaruti Baleno VxiTata Indica DLXTata Indica LSIToyota Etios Liva GDTata Nano STDHyundai Grand i10 SportzMahindra Scorpio S7 140 BSIVVolkswagen Polo Petrol Comfortline 1.2LHyundai Xcent 1.1 CRDi BaseChevrolet Beat Diesel PSMaruti Swift ZXi BSIVMaruti Ritz VDiTata Indigo CS Emax CNG GLXMaruti Eeco 5 STR With AC Plus HTR CNGMaruti Estilo LXIMaruti Swift VXI with ABSTata Zest Quadrajet 1.3 XMMaruti Alto K10 VXI AGS OptionalMahindra Scorpio SLE BSIVHyundai Santro Xing GLS CNGFord Figo Diesel Celebration EditionRenault KWID RXT OptionalRenault KWID 1.0 RXT OptionalSkoda Rapid 1.5 TDI AT Style BSIVChevrolet Spark 1.0Ford Fiesta 1.6 ZXi DuratecTata Manza Aura Quadrajet BS IVMaruti Swift VVT VXIHyundai i20 Sportz PetrolMaruti Zen Estilo VXI BSIVToyota Innova 2.5 G (Diesel) 8 Seater BS IVTata Tiago 1.2 Revotron XZAMaruti Vitara Brezza ZDiMaruti Swift VXI BSIIIMaruti Swift VXI BSIVHyundai i20 Active 1.2 SHyundai Santro GLS I - Euro ITata Safari Storme VXMahindra Scorpio REV 116Datsun GO Plus AToyota Fortuner 4x4 MTFord Ecosport 1.5 DV5 MT TitaniumMahindra XUV500 W11 AT BSIVMahindra Supro VX 8 StrFord Endeavour 2.5L 4X2 MTMahindra KUV 100 D75 K2Maruti Swift GlamTata New Safari DICOR 2.2 EX 4x2Honda Brio 1.2 VX MTChevrolet Sail Hatchback LS ABSTata Tiago NRG PetrolMaruti Vitara Brezza ZDi PlusHyundai Santro EraHonda City i-DTEC VHyundai Verna 1.6 CRDIHyundai EON D Lite PlusFord Endeavour 4x4 XLTVolkswagen Jetta 2.0 TDI TrendlineVolkswagen Polo 1.5 TDI HighlineHyundai i20 Asta 1.2Renault Duster 85PS Diesel RxEMaruti Omni E MPI STD BS IVHonda Brio S Option ATHonda Accord 2.4 MTFord Figo 1.2P Ambiente MTTata Nano LxTata Indigo LS DicorTata Indica Vista Terra 1.4 TDIMaruti Zen VXIChevrolet Beat LSMaruti Swift VDIMaruti Wagon R AMT VXIMahindra TUV 300 T4 PlusMaruti 800 AC BSIIHyundai Santro Magna BSIVTata Zest Revotron 1.2 XTMahindra XUV500 W11 Option AT AWDVolkswagen Polo Diesel Trendline 1.2LHyundai Verna CRDiTata Indica Vista Quadrajet LXRenault Duster 85PS Diesel RxLHyundai i10 Era 1.1Maruti Swift Dzire ZDIFord Figo Diesel ZXIMaruti Wagon R LXI BSIIIMaruti Swift Ldi BSIVVolkswagen Vento Diesel HighlineDatsun GO Plus T Option BSIVMaruti Alto K10 VXI AirbagHyundai EON LPG Magna PlusMahindra Bolero DI DX 7 SeaterMaruti Ertiga BSIV ZXIHonda BR-V i-VTEC S MTToyota Etios VDHyundai Santro Xing GLS Audio LPGFord Figo 1.2P Titanium MTFiat Avventura Urban Cross 1.3 Multijet EmotionFord EcoSport 1.5 TDCi Titanium BSIVMaruti Swift Ldi BSIIIFord Fiesta Classic 1.4 Duratorq CLXIFord Figo Titanium Diesel BSIVFord Ikon 1.3L Rocam FlairFiat Punto 1.3 EmotionHonda WR-V i-DTEC VSkoda Laura L n K 1.9 PDMaruti Ritz LDiMahindra Xylo D2Honda City i DTEC SMahindra Scorpio 1.99 S4Tata Indigo Grand DicorHonda Amaze EX i-DtechHyundai Creta 1.6 CRDi SX PlusToyota Etios GD SPMaruti SX4 S Cross DDiS 320 DeltaToyota Fortuner 2.8 4WD AT BSIVMaruti Ciaz VDi Option SHVSMahindra Scorpio VLX 2WD AIRBAG SE BSIVHyundai Tucson 2.0 e-VGT 2WD MTJaguar XF 5.0 Litre V8 PetrolHyundai Creta 1.6 VTVT AT SX PlusHyundai Verna VTVT 1.6 AT SX OptionMercedes-Benz GL-Class 350 CDI Blue EfficiencyMaruti Swift ZXI BSIVMaruti S-Cross Zeta DDiS 200 SHHyundai Verna 1.6 VTVT SXVolkswagen Polo GTIRenault Pulse RxLMaruti Celerio VXI AMT BSIVHonda Brio V MTHyundai Creta 1.6 SX Automatic DieselHonda City i VTEC VToyota Innova Crysta 2.4 GX ATBMW 3 Series 320d Luxury LineMercedes-Benz C-Class Progressive C 220dAudi A4 3.0 TDI QuattroBMW X5 xDrive 30d xLineMaruti SX4 Vxi BSIVHyundai Grand i10 1.2 Kappa Magna ATHyundai Grand i10 Magna ATChevrolet Beat LT OptionToyota Fortuner 4x2 ATHyundai i10 MagnaHyundai Santro GSSkoda Laura Ambiente 2.0 TDI CR MTHyundai i20 Sportz 1.2Maruti Gypsy E MG410W STTata Nexon 1.5 Revotorq XZMahindra Verito 1.5 D4 BSIVChevrolet Tavera LS B3 7 Seats BSIIChevrolet Optra Magnum 2.0 LSMaruti Eeco 5 Seater Standard BSIVHonda Civic 1.8 MT SportTata Hexa XT 4X4Tata Indica Vista Quadrajet VXMahindra Scorpio 2.6 CRDe SLEMaruti Zen Estilo LXI BSIIIMaruti Swift Dzire AMT ZXI Plus BS IVHonda Amaze S AT i-VtechMaruti Swift VXIMahindra Renault Logan 1.4 GLX PetrolHyundai i10 Magna LPGTata Venture EXChevrolet Captiva LTChevrolet Aveo U-VA 1.2 LSMaruti Ciaz Zeta BSIVTata Hexa XMHyundai Santro Xing GL PLUS CNGMahindra Thar CRDe ABSMaruti Alto K10 2010-2014 VXIMaruti Alto K10 LXIHonda City 1.5 V ATMaruti Ritz LXIHonda Jazz VXMahindra Scorpio SLE BSIIISkoda Rapid 1.6 MPI AT Elegance PlusTata Nano LXMaruti Zen Estilo 1.1 VXI BSIIIMaruti Wagon R LX MinorSkoda Octavia Classic 1.9 TDI MTMaruti Swift AMT VXIHonda Amaze SX i-VTECHyundai Grand i10 Nios Magna CRDiVolkswagen Jetta 1.9 L TDIHyundai Xcent 1.1 CRDi SX OptionHyundai Santro Xing GL Plus LPGHyundai Accent ExecutiveMaruti Celerio VXI ATHyundai Creta 1.6 CRDi AT SX PlusMaruti Ertiga VXI CNGHyundai Verna 1.6 SX VTVTHyundai Grand i10 1.2 Kappa Sportz Dual ToneToyota Etios VVolkswagen Vento Petrol Highline ATVolkswagen Polo Diesel Highline 1.2LMahindra KUV 100 mFALCON D75 K8Audi A4 New  2.0 TDI MultitronicVolkswagen Polo Petrol Highline 1.2LSkoda Rapid 1.6 MPI ActiveMaruti Ertiga ZDIMaruti Wagon R Stingray LXISkoda Superb 1.8 TSITata Indigo LSLand Rover Discovery Sport TD4 HSE 7STata Sumo GX TC 8 StrHyundai i20 MagnaHyundai Verna CRDi 1.6 SX OptionTata Tiago XZA AMTToyota Innova Crysta 2.4 VX MT BSIVHyundai Grand i10 AT AstaMaruti Ciaz VXiMahindra XUV500 W8 4WDRenault Lodgy 85PS RxLMahindra Scorpio S6 Plus 7 SeaterMaruti Swift LDI BSIVHyundai i20 2015-2017 Magna 1.2Maruti Wagon R LXI BS IVMahindra Bolero 2011-2019 SLX 2WD BSIIIToyota Innova Crysta 2.8 ZX AT BSIVMaruti Ciaz VDI SHVSTata Indica GLS BS IVHonda City i DTec SVMaruti Swift LXIMaruti Zen LXIHonda WR-V i-VTEC VXToyota Fortuner 2.8 2WD AT BSIVToyota Innova Crysta 2.4 ZX MTVolkswagen Polo 1.5 TDI TrendlineMahindra Verito Vibe 1.5 dCi D4Volkswagen Vento Magnific 1.6 HighlineMaruti Swift Dzire LDITata New Safari DICOR 2.2 GX 4x2Maruti SX4 ZDIHyundai Verna 1.6 SX VTVT (O)Fiat Grande Punto 1.3 Dynamic (Diesel)Maruti Wagon R Stingray VXIToyota Etios Liva 1.4 VDHyundai Xcent 1.2 Kappa SXHonda Amaze VX O iDTECMaruti Ciaz 1.4 AT ZetaMahindra Scorpio S4 4WDMaruti Swift 1.3 VXI ABSFord Ecosport 1.0 Ecoboost Titanium OptionalRenault KWID Climber 1.0 AMT BSIVRenault KWID RXL BSIVHyundai EON 1.0 Era PlusToyota Innova 2.5 G (Diesel) 8 SeaterToyota Innova 2.5 G4 Diesel 8-seaterMahindra KUV 100 G80 K2Hyundai i20 1.4 Asta OptionRenault KWID RXLMaruti Celerio ZXI Optional AMT BSIVFiat Palio D 1.9 EL PSFiat Linea Classic 1.3 MultijetMaruti Alto 800 CNG LXIMaruti Swift Dzire VXiHyundai Grand i10 1.2 Kappa Sportz BSIVHonda Brio 1.2 S MTTata Zest Revotron 1.2T XEHyundai Creta 1.4 CRDi BaseMercedes-Benz M-Class ML 350 CDIToyota Innova Crysta 2.4 GX MT 8S BSIVTata New Safari DICOR 2.2 EX 4x4Mahindra Marazzo M4Toyota Etios Cross 1.2L GMahindra KUV 100 mFALCON D75 K8 AWMaruti Swift Dzire VXIHyundai i20 Asta 1.4 CRDi (Diesel)Toyota Innova 2.0 GX 8 STR BSIVTata Hexa XTAHyundai Verna 1.6 SX VTVT ATMaruti Swift Dzire VXI 1.2 BS IVMaruti SX4 ZDI LeatherMaruti Ignis 1.2 Alpha BSIVHonda Mobilio V i VTECHyundai Getz 1.3 GVSFord Fiesta Titanium 1.5 TDCiHyundai Accent GLE CNGTata Tigor 1.2 Revotron XMHyundai i10 Magna 1.1Nissan Sunny Diesel XVTata Nano StdChevrolet Tavera LT L1 7 Seats BSIIIMahindra Verito 1.5 D2 BSIVHyundai EON D LiteToyota Innova 2.5 GX (Diesel) 7 SeaterNissan Terrano XV Premium 110 PSNissan Sunny XV D Premium LeatherMahindra Bolero 2011-2019 SLXHyundai Santro Xing XG eRLX Euro IIIVolkswagen Jetta 2.0L TDI Highline ATTata Indica Vista Quadrajet 90 VXHonda City VX MTVolkswagen Jetta 1.9 Highline TDIVolkswagen Vento 1.5 TDI Highline Plus ATMaruti Wagon R VXI AMT1.2BSIVHyundai Grand i10 AstaVolkswagen Polo 1.0 MPI TrendlineHyundai Creta 1.6 CRDi SX OptionHyundai Grand i10 Asta OptionMaruti Swift DDiS LDIHyundai i10 Sportz 1.2 ATVolkswagen Vento 1.5 TDI ComfortlineSkoda Rapid 1.5 TDI AT AmbitionHyundai Getz GLEMahindra Scorpio M2DIFord Endeavour XLT TDCi 4X2Audi Q3 35 TDI Quattro TechnologyAudi A5 SportbackChevrolet Sail Hatchback 1.3 TCDi LT ABSHyundai Accent CRDiBMW 7 Series Signature 730LdToyota Camry 2.5 HybridMahindra XUV500 W5 BSIVMahindra XUV300 W8 Option Diesel BSIVMahindra Thar CRDeHonda Mobilio E i DTECMaruti Ciaz ZXi PlusFiat Grande Punto EVO 1.3 DynamicFord Endeavour Hurricane Limited EditionLand Rover Discovery S 2.0 SD4Hyundai i10 Era 1.1 iTech SEMaruti Vitara Brezza VDi OptionHyundai i20 Sportz Option 1.2Ford Endeavour 3.0L 4X4 ATHyundai Santro LE zipPlusHyundai Creta 1.4 EX DieselHyundai Verna CRDi 1.6 SXTata Indigo LXMitsubishi Pajero Sport 4X4Ford Fiesta 1.5 TDCi TitaniumHonda City i-VTEC CVT ZXBMW 3 Series GT Luxury LineMaruti Baleno Alpha CVTHyundai i20 1.4 Magna ExecutiveMaruti Baleno ZetaHonda City VTECFord Endeavour 3.2 Titanium AT 4X4Tata Xenon XT EX 4X2Nissan Terrano XL Plus 85 PSFord Ecosport 1.5 DV5 MT AmbienteSkoda Laura Elegance 1.9 TDI  ATMaruti Alto 800 LXI AirbagMahindra Bolero SLX 2WDMahindra Jeep MM 540Skoda Octavia Elegance 2.0 TDI ATHonda Jazz 1.5 VX i DTECHonda City i-VTEC ZXMaruti Vitara Brezza ZDi Plus AMT Dual ToneMaruti Celerio LXI MT BSIVRenault Captur 1.5 Diesel RXTAudi A4 30 TFSI TechnologyHonda Amaze VX Diesel BSIVToyota Corolla Altis 1.8 VL ATHonda Amaze VX Petrol BSIVHonda Amaze VX i-VTECMahindra KUV 100 mFALCON G80 K2Maruti Zen Estilo SportsMaruti Ertiga ZDI PlusAudi Q3 2.0 TDI Quattro Premium PlusTata Zest Revotron 1.2T XMSAudi Q5 2.0 TFSI Quattro Premium PlusDatsun GO T PetrolMahindra Jeep CJ 500 DIRenault Pulse RxZLand Rover Discovery Sport SD4 HSE LuxuryVolkswagen Polo 2015-2019 1.2 MPI HighlineHonda City i-VTEC SVTata Sumo Gold EXTata Indica DLEHonda City SMercedes-Benz New C-Class C 220 CDI Grand EditionToyota Innova 2.5 VX 8 STRMahindra Xylo D4 BSIVToyota Innova Crysta 2.5 VX BS IVHyundai Verna CRDi 1.6 AT SX OptionMahindra Scorpio S2 7 SeaterHyundai i10 Magna 1.2 iTech SEMahindra Bolero DIHyundai Santro Xing XSMaruti Esteem VXHonda Amaze S i-DtechHyundai Santro Xing XG ATSkoda Yeti Ambition 4X2Maruti Wagon R LXI CNGHyundai Verna SXMaruti SX4 Celebration PetrolHyundai i20 Active S DieselHonda Amaze V CVT Petrol BSIVMaruti Ciaz ZXiHyundai i20 Active SX PetrolNissan Terrano XL 85 PSMahindra Bolero B6Mahindra Scorpio SLE BS IVMaruti Ertiga ZXIMaruti Swift ZDI PlusMaruti Wagon R VXI BSIIIChevrolet Tavera Neo 2 LT L 9 StrTata Indica Vista Aura Plus 1.3 QuadrajetRenault Duster 85PS Diesel RxL PlusMaruti Swift Dzire Vdi BSIVVolkswagen Polo Diesel Comfortline 1.2LMaruti Gypsy King Hard TopTata Manza Club Class Quadrajet90 VXMaruti Swift VXI DecaMaruti Ignis 1.2 AMT Delta BSIVToyota Innova Crysta 2.4 VX MT 8S BSIVMahindra Bolero Power Plus LXMaruti Swift 1.2 DLXMahindra KUV 100 mFALCON D75 K6Tata Nano Cx BSIVMahindra TUV 300 T4Tata Safari Storme VX Varicor 400Maruti Baleno Delta AutomaticHyundai i20 Active S PetrolTata Indica Vista Terra Quadrajet 1.3LNissan Sunny XLVolkswagen Vento Diesel Style Limited EditionChevrolet Aveo 1.4 LSChevrolet Beat PSHonda City EMaruti Wagon R VXI Minor ABSMaruti Omni BSIII 8-STR W/ IMMOBILISERMahindra Xylo H4 ABSHyundai Elantra CRDi (Leather Option)Toyota Corolla Altis D-4D JHyundai i20 1.4 CRDi EraTata Indica Vista Aqua 1.3 QuadrajetHyundai Verna XXi (Petrol)Maruti Wagon R LXHyundai Santro Xing XK (Non-AC)Volkswagen Passat 1.8 TSI MTFord Figo Diesel LXIFord EcoSport 1.5 Ti VCT MT Trend BSIVToyota Corolla Executive (HE)Ford Freestyle Titanium Diesel BSIVMaruti Ignis 1.2 Zeta BSIVToyota Etios Liva 1.2 GToyota Corolla H6Renault Duster RXL AWDVolkswagen Polo 1.5 TDI ComfortlineFord Figo Diesel EXIHonda Jazz VX CVTMaruti Swift Dzire Tour LDIMaruti 800 Std MPFiHyundai Verna 1.6 CRDI SX OptionMercedes-Benz E-Class E250 CDI Blue EfficiencyToyota Etios 1.4 VXDMahindra Quanto C6Volkswagen Vento 1.5 TDI HighlineMaruti Ciaz ZDiVolkswagen Ameo 1.5 TDI ComfortlineTata Nano CX SETata Manza Aura QuadrajetMaruti Omni E 8 Str STDChevrolet Optra 1.6 LSMahindra TUV 300 T10Mahindra Alturas G4 4X2 AT BSIVMaruti Zen Estilo LX BSIIITata Indica LXIMaruti Wagon R VXI OptionalTata Sumo Victa CX 7/9 Str BSIISkoda Superb Elegance 2.0 TDI CR ATJeep Compass 2.0 Longitude Option BSIVTata Indica DLFord Fiesta 1.6 ZXi LeatherMahindra Scorpio EXHyundai Santro Xing XL AT eRLX Euro IIIMahindra Thar DI 4X4 PSHyundai Grand i10 1.2 Kappa Magna BSIVFord Fiesta 1.4 Duratec ZXIHyundai i20 Asta Option 1.4 CRDiMaruti Swift Dzire LXIMaruti 800 EXRenault KWID Climber 1.0 AMTMahindra Bolero Power Plus SLEHyundai Xcent 1.2 VTVT SMaruti Wagon R LXI LPG BSIVNissan Micra Diesel XV PremiumMaruti Zen LXi - BS IIIHonda City i DTEC SVToyota Innova 2.5 VX (Diesel) 7 SeaterHonda Civic 1.8 (E) MTMaruti Zen Estilo 1.1 LXI BSIIIHonda City 1.5 V MTTata Manza ELAN Quadrajet BS IVMahindra Xylo E4 ABS BS IVHonda WR-V i-DTEC VXNissan Terrano XL 110 PSHonda Amaze S CVT PetrolMaruti Esteem LxiToyota Corolla Altis Diesel D4DGLTata Indica Vista Aura 1.2 SafireMahindra Bolero SLEHyundai Elite i20 Asta Option CVT BSIVHyundai Creta 1.4 E PlusHonda Jazz 1.5 E i DTECTata Aria Pure LX 4x2Ford Freestyle Trend Petrol BSIVMahindra Jeep MM 775 XDBHyundai Grand i10 1.2 CRDi MagnaMaruti Zen Estilo LX BSIVMaruti 800 DXHonda City 1.5 GXIHonda CR-V Diesel 4WDMaruti Ertiga BSIV VXI ATVolkswagen Polo 1.0 TSI Highline PlusAudi A4 35 TDI PremiumHyundai Xcent 1.1 CRDi SXMahindra Scorpio 2.6 SLX Turbo 7 SeaterFord Ecosport 1.0 Ecoboost TitaniumJaguar XF 3.0 Litre S Premium LuxuryMaruti Zen Estilo VXI BSIIIToyota Innova 2.5 E 8 STRHyundai i20 1.4 CRDi AstaNissan Micra XL CVTMahindra Scorpio VLX AT 2WD BSIIIToyota Corolla AEHyundai Grand i10 Nios SportzChevrolet Tavera Neo 3 LT 9 Seats BSIIIHyundai Grand i10 Nios AMT MagnaHyundai Verna 1.6 VTVT STata Manza Aqua Quadrajet BS IVMaruti Wagon R LX BSIIIToyota Etios Cross 1.4L GDRenault KWID RXT BSIVDaewoo Matiz SDTata Hexa XTHonda Jazz VMaruti A-Star LxiAudi A8 L 3.0 TDI quattroHyundai Elantra SXDatsun redi-GO AMT 1.0 T OptionTata Nano Cx BSIIIBMW X1 sDrive20d M SportChevrolet Enjoy TCDi LT 7 SeaterHonda Amaze S DieselMahindra KUV 100 D75 K6 PlusHonda City i-VTEC CVT VXHonda Brio VXMG Hector Sharp Diesel MT BSIVAudi A4 35 TDI Premium PlusRenault Scala Diesel RxLSkoda Laura Ambiente 1.9 PDFord Fiesta Diesel StyleSkoda Laura 1.9 TDI MT AmbienteToyota Innova 2.5 VX (Diesel) 7 Seater BS IVMercedes-Benz E-Class 220 CDIFord Figo Aspire 1.5 TDCi TrendTata Indigo GLXMaruti Swift Dzire LDI OptionalFord EcoSport 1.5 Diesel Ambiente BSIVSkoda Rapid 1.6 TDI EleganceHyundai i20 1.4 CRDi SportzChevrolet Aveo 1.4 LT BSIVMahindra Quanto C4Honda Mobilio S i DTECHyundai Santa Fe 4WD ATTata Manza Aura (ABS) Safire BS IVForce One EXMahindra Xylo D2 BS IVHyundai Santro Magna AMT BSIVTata Indigo LS BSIIHyundai Verna CRDi SX ABSTata New Safari DICOR 2.2 GX 4x2 BS IVTata Indica Vista Aura 1.3 QuadrajetMahindra Bolero Power Plus Plus Non AC BSIV PSMahindra Scorpio VLX 2WD AIRBAG BSIVToyota Innova 2.5 Z Diesel 7 Seater BS IVHonda Brio 1.2 S Option MTHyundai Santro Sportz BSIVFiat Linea DynamicMaruti Alto 800 LXMaruti SX4 S Cross DDiS 320 ZetaMahindra Jeep ClassicMahindra Scorpio 2.6 Turbo 7 StrToyota Innova 2.5 GX (Diesel) 7 Seater BS IVFord Figo Petrol LXIMaruti Swift ZXI ABSMahindra XUV500 W6 1.99 mHawkMaruti Alto K10 LXMaruti Wagon R VXTata Indica Vista Aqua 1.2 Safire BSIVHonda Civic 1.8 S ATMahindra NuvoSport N8Hyundai Verna Transform CRDi VGT SX ABSVolkswagen Vento New Diesel HighlineMaruti S-Presso VXI PlusHonda Civic 1.8 S MTToyota Etios Liva 1.2 VXToyota Yaris GMaruti Swift LXI OptionMaruti Ciaz ZDi PlusMaruti Ciaz 1.4 AlphaToyota Corolla Altis GL MTMaruti Esteem Lxi - BSIIIVolkswagen Vento Diesel ComfortlineMaruti SX4 ZXI ATMaruti Swift Dzire AMT ZXIMahindra TUV 300 T8 AMTFord Fusion 1.6 Duratec PetrolHonda City i-VTEC VXMaruti Esteem VxiHyundai Verna 1.6 VTVTTata Sumo Victa EX 7/9 Str BSIIChevrolet Sail Hatchback 1.2 LSMahindra Bolero Power Plus ZLXDatsun RediGO SSkoda Fabia 1.2 MPI Ambition PlusRenault Fluence 1.5Maruti Wagon R LXI DUO BS IVMahindra TUV 300 Plus P4Volkswagen Jetta 2.0 TDI ComfortlineMaruti Swift LDI OptionalMaruti SX4 VDIChevrolet Aveo 1.4 CNGHyundai Elite i20 Magna Plus BSIVMahindra Thar 4X4Hyundai EON Magna OptionalMaruti Omni 5 Str STD LPGMaruti 800 DUO AC LPGToyota Innova Crysta 2.4 G MT BSIVHyundai Accent GLXMaruti Swift VDI OptionalHyundai Santro Xing XK eRLX EuroIIIMaruti Baleno Zeta 1.2Ford Freestyle Titanium DieselFord Figo TitaniumFord Ecosport 1.5 Diesel TitaniumFord Figo 1.5D Titanium Opt MTToyota Etios VXHyundai Accent GLSMaruti Ignis 1.3 DeltaTata Indigo CS LX (TDI) BS-IIIMaruti Alto K10 VXI AGSNissan Evalia XVHyundai Grand i10 1.2 CRDi Sportz OptionMahindra KUV 100 D75 K4 Plus 5StrHyundai Verna SX DieselHonda City Corporate EditionHyundai EON EraDatsun RediGO 1.0 T OptionMaruti Alto LXIHyundai i10 Magna 1.2Renault Captur 1.5 Diesel RXT MonoMahindra Xylo D2 MaxxFord Aspire Titanium BSIVFord EcoSport 1.5 Ti VCT MT Titanium BE BSIVFord Ecosport 1.5 Petrol TrendFord EcoSport 1.5 TDCi Titanium Plus BSIVFord Freestyle TitaniumFord Ecosport Thunder Edition DieselFord Freestyle Titanium PlusMahindra Scorpio S2 9 SeaterMahindra Scorpio VLS 2.2 mHawkHonda Accord VTi-L (MT)Tata Indigo CS LE (TDI) BS-IIIVolkswagen Ameo 1.5 TDI Highline Plus 16Ford Ecosport 1.5 Petrol Titanium PlusMahindra XUV500 AT W10 AWDMahindra XUV500 W10 2WDMaruti Swift Dzire AMT VDITata New Safari 4X4Hyundai Verna SX CRDi ATRenault Koleos 2.0 DieselMaruti Wagon R LXI DUO BSIIIFord Ikon 1.8 DMercedes-Benz New C-Class 200 CDI ClassicMaruti Ertiga SHVS LDI OptionTata Manza Aura (ABS) Quadrajet BS IVMaruti Wagon R VXi BSIIFord Fiesta 1.5 TDCi AmbienteRenault KWID 1.0Mahindra Scorpio S10 7 SeaterChevrolet Enjoy TCDi LS 8 SeaterTata Indica Vista TDI LXFiat Grande Punto EVO 1.3 ActiveMitsubishi Pajero 2.8 SFX BSIV Dual ToneMahindra Scorpio 2.6 SLX CRDeMaruti Swift VXI OptionalMahindra Thar DI 4X2Maruti Ritz VXiTata Nexon 1.2 Revotron XZ Plus Dual ToneToyota Innova 2.5 G1 BSIVMaruti Vitara Brezza LDiHyundai Verna Transform CRDi VGT ABSFord Freestyle Titanium Plus DieselFord Figo 1.5P Titanium ATFord Figo 1.5D Titanium MTSkoda Rapid 1.5 TDI AT Ambition BSIVTata Manza Aura SafireMaruti Swift Dzire ZXIMahindra Bolero SLE BSIIIHyundai Verna VTVT 1.6 SXFiat Punto 1.2 ActiveMaruti Alto LXi BSIIHonda City 1.5 EXI SHonda Amaze E i-VTECTata Safari Storme EXVolkswagen Ameo 1.2 MPI TrendlineHyundai Verna 1.6 Xi ABSChevrolet Aveo 1.6 LTMahindra Bolero DI DX 8 SeaterHyundai Verna 1.4 EXFord Figo Petrol ZXITata Harrier XZ BSIVMahindra KUV 100 mFALCON G80 K8 5strHyundai i10 SportzMaruti Ignis 1.2 Delta BSIVToyota Corolla Altis 1.8 JTata Manza Club Class Quadrajet90 LSMaruti Wagon R VXI MinorHyundai Accent GLEToyota Innova 2.0 VX 7 SeaterMaruti Alto 800 CNG LXI OptionalMaruti Ritz LXiChevrolet Aveo 1.6 LT with ABSTata Altroz XZVolkswagen Polo SR Petrol 1.2LSkoda Superb 1.8 TFSI MTTata Tiago 2019-2020 XE DieselTata Tiago 1.05 Revotorq XEHyundai Santro LS zipPlusMahindra XUV500 AT W10 FWDMahindra Scorpio VLX 2WD BSIVMahindra Scorpio VLX 2.2 mHawk Airbag BSIVHyundai Verna CRDi ABSMercedes-Benz E-Class 230Maruti Omni 8 Seater BSIVFord Fiesta 1.4 ZXi TDCi ABSTata New Safari Dicor EX 4X2 BS IVMahindra XUV500 W7Maruti Baleno Delta 1.3Tata Nano Twist XTMaruti Wagon R AXMahindra Scorpio SLX 2.6 Turbo 8 StrTata Tiago 1.05 Revotorq XT OptionHyundai Elite i20 Sportz Plus BSIVHonda Brio Exclusive EditionHyundai Verna Transform SX VTVTMaruti Swift Dzire ZXI 1.2 BS IVMaruti Swift VDi BSIII W/ ABSHyundai Accent GLE 1Hyundai Getz GLXFord Ecosport 1.5 Petrol AmbienteHonda BR-V i-VTEC VX MTTata Indigo CS eLX BS IVMaruti Ertiga 1.5 VDIIsuzu D-Max V-Cross StandardNissan Kicks XV Premium D BSIVMaruti Alto 800 BaseVolkswagen Ameo 1.5 TDI Highline 16 AlloyHyundai Santro AT CNGFord Ecosport Sports PetrolHyundai Tucson CRDiTata Indigo TDINissan Micra Diesel XV PrimoTata Sumo LXMaruti Celerio ZXIOpelCorsa 1.6GlsChevrolet Tavera Neo 3 Max 9 Str BSIIIMahindra Scorpio VLX 2WD ABS AT BSIIIDatsun GO Plus T BSIVHyundai Santro Xing GLChevrolet Aveo U-VA 1.2 LT WO ABS AirbagHonda BR-V i-DTEC VX MTChevrolet Sail Hatchback LT ABSHonda City 1.3 EXIHyundai Getz 1.5 CRDi GVSRenault Lodgy Stepway 85PS RXZ 8SToyota Etios 1.5 VDatsun GO Plus A Option PetrolTata Tiago 1.2 Revotron XENissan Sunny Diesel XLMahindra XUV500 AT W8 FWDHyundai Santro Sportz AMTNissan Micra Active XV SMercedes-Benz E-Class E250 CDI EleganceAudi Q5 3.0 TDI Quattro TechnologyDatsun GO Plus TToyota Camry Hybrid 2.5Volkswagen Jetta 2.0L TDI HighlineMahindra Marazzo M2 8StrFord Ecosport 1.5 DV5 MT Titanium OptionalMaruti Celerio ZXI MT BSIVHonda BRV i-VTEC V MTMaruti Omni 5 Str STDHyundai i20 Asta (o) 1.4 CRDi (Diesel)Maruti Omni 8 Seater BSIIMercedes-Benz B Class B180 SportsToyota Etios Liva VDVolkswagen Vento 1.5 TDI Highline BSIVRenault KWID Climber 1.0 MT Opt BSIVHyundai Santro AstaFord Figo Aspire Titanium Plus DieselRenault Pulse RxZ OptionalNissan Terrano XL PTata Manza Club Class Quadrajet90 LXToyota Camry M/tRenault Duster 85PS Diesel RxZMaruti Swift ZXI PlusToyota Corolla H3Tata Safari DICOR 2.2 EX 4x2Maruti Wagon R Duo LxiMahindra Bolero B4Maruti Celerio VXIChevrolet Beat Diesel LT OptionMaruti Eeco Smiles 5 Seater ACHyundai Santro GLS I - Euro IIChevrolet Spark 1.0 PSMaruti Swift ZDiToyota Innova 2.5 E Diesel MS 7-seaterMahindra Scorpio 2.6 CRDeHonda Jazz Select Edition ActiveHyundai i20 Active 1.4 SXMahindra TUV 300 T8Toyota Etios Liva 1.2 VToyota Innova 2.5 GX 7 STR BSIVHyundai i20 Magna Optional 1.2Honda City 1.5 S MTHonda Amaze E i-DtechMaruti Swift Dzire LXiHyundai Creta 1.4 CRDi S PlusHonda Jazz 1.5 SV i DTECMahindra Renault Logan 1.6 Petrol GLSXMaruti Alto VXiMahindra XUV500 W10 1.99 mHawkMahindra Xylo E8Fiat 500 LoungeRenault Triber RXT BSIVTata New Safari 4X4 EXMahindra TUV 300 mHAWK100 T8Tata Altroz XEMaruti Wagon R ZXI 1.2Hyundai Xcent 1.2 CRDi EMaruti Alto Green LXi (CNG)Hyundai i20 1.2 EraFord Ikon 1.4 ZXiMaruti Zen VXi - BS IIIChevrolet Optra Magnum 2.0 LTMaruti Ertiga VDI Limited EditionMahindra KUV 100 mFALCON G80 K2 PlusMitsubishi Montero 3.2 MTTata Indica Vista Aqua 1.3 Quadrajet ABS BSIVHyundai i20 Magna Optional 1.4 CRDiFord Endeavour 4x2 XLTHyundai EON SportzMaruti Swift LXi BSIVMaruti Zen VXMaruti Omni LPG STD BSIVMaruti Zen D PSFiat Linea 1.3 Multijet EmotionFord Aspire Titanium Plus Diesel BSIVFord Aspire Titanium Plus BSIVFord Freestyle Titanium Plus Diesel BSIVHonda Jazz 1.2 VX i VTECChevrolet Aveo U-VA 1.2 LTTata Nexon 1.2 Revotron XZ PlusChevrolet Cruze LTTata Tigor 1.2 Revotron XZ OptionBMW X1 sDrive20dHyundai Elite i20 Magna Plus DieselFord EcoSport 1.5 Petrol Titanium BSIVFiat Grande Punto Active (Diesel)Ford Ecosport 1.0 Ecoboost Platinum Edition BSIVTata Tiago 2019-2020 XZMaruti Swift ZXIVolkswagen Polo 1.2 MPI ComfortlineFord Fiesta Diesel TrendHonda City 1.5 E MTMaruti Baleno Zeta 1.3Mahindra Jeep MM 550 XDBMaruti Alto STDMaruti Celerio VDiHyundai i20 Active 1.4 SX with AVNHyundai i20 1.4 CRDi MagnaMahindra Xylo E4 8SFord Fiesta Petrol TrendHyundai Xcent 1.2 Kappa BaseChevrolet Optra 1.6Ford Ikon 1.6 ZXI NXtFord Ikon 1.3 FlairMaruti Swift Dzire LDIX Limited EditionMaruti Swift 1.3 DLXTata New Safari DICOR 2.2 VX 4x4Renault KWID 1.0 RXLToyota Innova 2.5 VX 8 STR BSIVFiat Punto 1.3 ActiveHyundai Xcent 1.2 VTVT E PlusAudi Q5 2.0 TFSI QuattroSkoda Rapid 1.6 MPI EleganceMaruti 800 Std BSIIIToyota Innova 2.5 GX 7 STRMahindra Scorpio S5 BSIVRenault KWID AMTToyota Fortuner 4x2 ManualMahindra TUV 300 T6 PlusHyundai Elantra CRDi SXHonda City 1.5 V AT ExclusiveToyota Innova Crysta 2.8 GX AT BSIVTata Indigo LX DicorHyundai i20 1.2 MagnaTata Tiago 1.2 Revotron XTAFord Ecosport 1.5 Petrol Titanium Plus ATMaruti Ignis 1.2 Sigma BSIVTata Manza Aura Safire BS IVToyota Corolla Altis Diesel D4DJHyundai Santro Magna CNG BSIVFiat Linea EmotionMaruti Zen Estilo LXI BS IVMaruti Celerio X ZXI BSIVFord Figo 1.5D Trend MTHonda Amaze E i-DTECMaruti Alto K10 LXI CNG OptionalHyundai Verna CRDi SXMaruti Swift DDiS VDISkoda Rapid 1.6 TDI AmbitionHyundai Sonata AT LeatherHyundai Sonata 2.4L ATNissan X-Trail SLX MTMahindra Xylo E8 ABS Airbag BSIVTata Indigo GLSNissan Micra Diesel XVHyundai Grand i10 CRDi Asta OptionMaruti Alto 800 Std OptionalHyundai Getz GLS ABSNissan Kicks XL D BSIVMaruti Ritz VDI (ABS) BS IVTata Nano Std BSIIHyundai Elite i20 Petrol Asta OptionToyota Innova 2.5 G4 Diesel 7-seaterMaruti Celerio ZXI ATVolvo XC60 D5 InscriptionMaruti Wagon R AMT VXI OptionAmbassador Classic 2000 DszMaruti Ciaz Sigma BSIVChevrolet Spark 1.0 LT Option Pack w/ AirbagFiat Linea 1.3 EmotionFord Figo 1.2P Titanium Plus MTHyundai Grand i10 1.2 Kappa EraVolkswagen Vento 1.0 TSI Highline PlusFord Classic 1.6 Duratec LXIHyundai Verna 1.6 CRDi SXMaruti Ertiga ZXI AT PetrolBMW 5 Series 525d SedanHonda City i DTEC EHyundai Creta 1.6 Gamma SX PlusHyundai Elite i20 Diesel Asta OptionMaruti S-Cross Alpha DDiS 200 SHTata Indica Vista Aura 1.3 Quadrajet BSIVVolkswagen Vento 1.5 TDI Comfortline ATHyundai Elite i20 Sportz Plus CVT BSIVVolkswagen Vento IPL II Diesel TrendlineMaruti Swift VXi BSIVSkoda Fabia 1.2 TDI ActiveToyota Corolla Altis GFord Fiesta 1.6 Duratec SMaruti Wagon R VXI Plus OptionalMaruti Zen Estilo LXI Green (CNG)Tata Bolt Revotron XESkoda Rapid Monte Carlo 1.6 MPI AT BSIVTata New Safari 4X2Renault Duster Petrol RxLMaruti Omni CNGTata Indica Vista Terra TDI BSIIIHonda Mobilio S i VTECRenault KWID RXEKia Seltos HTK Plus AT DMaruti Eeco CNG 5 Seater AC BSIVMaruti Ciaz ZDi Plus SHVSMahindra Renault Logan 1.5 DLE DieselFord Ikon 1.4 TDCi DuraTorqTata Tiago XTFord Endeavour Titanium Plus 4X4Honda City V ATHonda City i VTEC SFord Ecosport 1.5 Ti VCT AT TitaniumVolkswagen Jetta 2.0L TDI ComfortlineFord Fiesta 1.4 ZXi LeatherAudi A6 2.7 TDIMaruti Wagon R VXI BSIIMaruti Wagon R CNG LXIHonda Jazz 1.2 V i VTECMaruti Ciaz VDi Plus SHVSAudi A4 2.0 TDIMaruti Vitara Brezza ZDi Plus Dual ToneMaruti Ritz VXIHyundai Accent GLS 1.6 ABSMahindra Scorpio BSIVChevrolet Aveo 1.4Volkswagen Polo 1.2 MPI HighlineBMW 5 Series 530iMaruti S-Cross Delta DDiS 200 SHVolkswagen Vento Diesel TrendlineMaruti Swift Dzire LDiSkoda Laura AmbienteMaruti Celerio ZDiFord Fiesta 1.6 Duratec EXI LtdHyundai Santro Xing XKDatsun GO Plus Remix Limited EditionToyota Innova 2.5 G3Hyundai Xcent 1.2 VTVT S ATHyundai EON MagnaMaruti Alto 800 LXI CNGVolkswagen Vento 1.6 HighlineTata Nano Twist XEFord Figo Aspire 1.5 TDCi Ambiente ABSOpelCorsa 1.4 GLMahindra XUV500 W7 BSIVMaruti Ciaz 1.4 ZetaToyota Innova 2.5 GX (Diesel) 8 Seater BS IVTata Nano CXTata Tiago 1.05 Revotorq XMTata Zest Quadrajet 1.3Ford Figo Petrol EXIHonda Amaze S i-DTECChevrolet Sail Hatchback 1.3 TCDiHyundai Elite i20 Petrol Magna ExectiveChevrolet Enjoy TCDi LT 8 SeaterMaruti Wagon R VXI AMTFord Figo TrendHyundai Tucson 2.0 e-VGT 2WD AT GLHyundai i20 1.2 Asta Dual ToneDatsun RediGO SV 1.0Datsun GO T BSIVChevrolet Captiva 2.0L VCDiTata New Safari 3L Dicor LX 4x2Hyundai Grand i10 CRDi AstaHonda BRV i-DTEC V MTToyota Fortuner 3.0 DieselMahindra Verito 1.5 D2 BSIIIHyundai Verna 1.6 i ABSVolvo XC60 D3 KineticHyundai i20 Asta Option 1.2Tata Xenon XT EX 4X4Volkswagen Vento Petrol HighlineChevrolet Beat LT LPGMaruti Ciaz VDiDatsun GO T Option BSIVMercedes-Benz E-Class E250 Edition EHyundai Verna SX AT DieselMahindra XUV500 AT W10 1.99 mHawkTata Indigo GLE BSIIIMaruti Swift 1.3 LXIHyundai Elantra 2.0 SX ATMaruti S-Cross Sigma DDiS 200 SHChevrolet Sail LS ABSHonda City 1.5 V EleganceMaruti Grand Vitara MTTata Manza Club Class Quadrajet90 EXTata Tiago 1.05 Revotorq XZ PlusFiat Linea T Jet PlusHonda Civic 1.8 V MTHyundai Grand i10 1.2 Kappa Sportz ATHyundai Venue SX Opt Turbo BSIVFord Figo 1.5D Ambiente ABS MTRenault Duster 110PS Diesel RxZ PlusFord Figo Aspire 1.5 Ti-VCT TitaniumMaruti Ciaz S 1.3Mahindra Ingenio CRDeVolkswagen Vento 1.5 Highline Plus AT 16 AlloyToyota Corolla Altis 1.8 GLAudi A4 1.8 TFSIToyota Innova 2.5 EV Diesel PS 7 Seater BSIIIAmbassador Grand 1800 ISZ MPFI PW CLSkoda Laura Ambiente 2.0 TDI CR ATMahindra Xylo Celebration Edition BSIVVolkswagen CrossPolo 1.2 MPIMaruti Ertiga VXI PetrolHyundai Xcent 1.1 CRDi SHyundai i20 1.2 Magna ExecutiveMaruti Swift Star VDIHyundai i10 Magna 1.1 iTech SESkoda Laura Elegance 2.0 TDI CR ATFord EcoSport 1.5 Diesel Trend BSIVMaruti Celerio ZXI AMT BSIVHyundai EON Magna Plus OptionTata Tiago 1.2 Revotron XTHyundai Grand i10 Asta Option ATFord Endeavour 2.5L 4X2Maruti Ignis 1.2 AMT Alpha BSIVTata Nexon 1.5 Revotorq XMFord Fiesta 1.4 ZXi DuratecMaruti Esteem AXHonda Amaze V Diesel BSIVSkoda Rapid 1.5 TDI AmbitionTata Indica Vista Aqua 1.3 Quadrajet BSIVHyundai Creta 1.6 SXHyundai i10 Sportz ATMahindra Bolero SLX 4WD BSIIIMahindra Scorpio S9 BSIVHonda City 1.3 DXTata Nano Lx BSIIIMaruti 800 AC UniqMahindra Scorpio VLX 2WD AT BSIVLand Rover Range Rover Evoque 2.2L DynamicTata Spacio SA 6 SeaterHyundai Verna 1.4 CRDiMercedes-Benz E-Class 280 CDIMaruti Swift ZDINissan Micra Active XVFiat Linea Active (Diesel)Fiat Punto 1.4 EmotionFord EcoSport 1.5 Diesel Trend Plus BSIVRenault Duster 110PS Diesel RxZ AWDHyundai Verna Transform VTVTMaruti Gypsy King Hard Top Ambulance BSIVFord Fiesta 1.4 SXi TDCiMaruti Baleno Zeta AutomaticTata Indica Vista Terra Quadrajet 1.3L BS IVToyota Etios VXDMahindra Xylo E9Toyota Etios Liva VXMahindra Xylo H4Ford Classic 1.4 Duratorq LXIChevrolet Aveo U-VA 1.2Honda Jazz 1.5 S i DTECToyota Innova 2.5 GX 8 STR BSIVTata New Safari DICOR 2.2 VX 4x2Fiat Grande Punto EVO 90HP 1.3 SportFiat Grande Punto Emotion 90HpFord Fiesta Classic 1.6 Duratec CLXITata Sumo Gold EX BSIIIMaruti A-Star AT VXINissan Terrano XL Plus ICC WT20 SEHyundai Accent Executive CNGHyundai Creta 1.6 E PlusAudi A6 2.8 FSIHyundai Xcent 1.2 CRDi SHyundai Santa Fe 4X4Honda Amaze E i-VtechMahindra Thar 4X2Maruti Swift Dzire LXI OptionHyundai i20 1.2 Asta OptionMaruti Baleno RS 1.0 PetrolSkoda Superb LK 1.8 TSI ATVolkswagen Jetta 1.9 TDI Comfortline DSGVolkswagen Vento 1.5 TDI Highline ATHonda Amaze VX AT i-VtechMaruti Baleno Delta DieselTata Winger Deluxe - Hi Roof (AC)Datsun RediGO AMT 1.0 SNissan Sunny XL DHonda Jazz Select EditionMaruti Swift Dzire AMT VXIHyundai Creta 1.6 SX AutomaticMercedes-Benz E-Class 280 CDI EleganceAudi RS7 2015-2019 Sportback PerformanceMG Hector Smart ATLand Rover Range Rover 4.4 Diesel LWB Vogue SEHonda City VX CVTVolkswagen Polo GT 1.0 TSITata Bolt Revotron XMDatsun GO Plus T OptionMahindra XUV500 AT W6 2WDHyundai EON Era Plus Sports EditionSkoda Rapid 1.6 MPI AT Ambition BSIVAmbassador CLASSIC 1500 DSL ACMaruti Gypsy King HT BSIVToyota Innova 2.5 EV Diesel MS 7 Str BSIIIMahindra Renault Logan 1.5 DLX DieselTata Aria Pleasure 4x2Honda City i-DTEC ZXHonda City i VTEC VXHonda Jazz 1.5 V i DTECFord EcoSport 1.5 Ti VCT MT Titanium BSIVTata Indigo CS eLS BS IVFord Fiesta 1.4 SXi TDCi ABSMahindra Xylo H8 ABS with AirbagsSkoda Rapid 1.6 TDI PRESTIGEMercedes-Benz GLS 2016-2020 350d 4MATICMahindra Xylo E6Fiat Palio 1.2 SportFiat Punto EVO 1.3 DynamicVolkswagen Jetta 1.9 TDI TrendlineToyota Corolla H2Maruti Zen LX - BS IIIMaruti Celerio VXI OptionalMaruti Alto 800 LXI OptionalMaruti Alto 800 LXI Opt BSIVVolkswagen Vento 1.5 TDI Highline Plus AT BSIVMaruti Alto K10 VXI OptionalVolvo XC 90 D5 Inscription BSIVMahindra TUV 300 T10 Dual ToneHonda Jazz 1.2 S i VTECMahindra XUV500 W7 AT BSIVMahindra Thar CRDe ACHyundai Verna 1.6 CRDi AT SXToyota Etios Liva GD SPMahindra Verito Vibe 1.5 dCi D6Ford EcoSport 1.5 Petrol Titanium Plus AT BSIVTata Harrier XEHyundai Xcent 1.2 CRDi SXFiat Linea Emotion (Diesel)Chevrolet Sail 1.3 LSToyota Camry HybridSkoda Octavia Ambiente 1.9 TDI MTHonda City Edge Edition Diesel SVFord Ecosport 1.5 DV5 MT TrendChevrolet Tavera Neo 3 9 Str BSIIIHonda Accord 2.4 ATMaruti Ertiga SHVS LDIFord Ecosport 1.5 Diesel Titanium PlusFord Figo 1.5 Sports Edition MTFord EcoSport 1.5 TDCi Titanium Plus BE BSIVFord Figo Aspire 1.5 TDCi Titanium PlusToyota Qualis FS B3Mahindra Scorpio VLX 2WD BSIIIHonda City i DTec VHonda City i-DTEC VXNissan Terrano XE 85 PSFiat Punto EVO 1.3 EmotionToyota Fortuner 2.7 2WD ATMahindra XUV500 W10 AWDTata Indica V2 DLS BSIIMahindra KUV 100 G80 K4 PlusHyundai Verna CRDi 1.6 AT EXTata Indigo CS LS (TDI) BS-IIIHonda Amaze S Petrol BSIVHyundai Santro Xing XS eRLX Euro IIIHyundai Santro ATFord Endeavour 2.2 Titanium AT 4X2Chevrolet Spark 1.0 LT BS3Maruti Swift LDITata Nano XMMahindra Verito 1.5 D6 BSIIIToyota Innova 2.5 VX (Diesel) 8 Seater BS IVHyundai i20 Magna 1.4 CRDi\n",
      "Unique Values in the year  column:     [2007 2012 2017 2014 2016 2015 2018 2019 2013 2011 2010 2009 2006 1996\n",
      " 2005 2008 2004 1998 2003 2002 2020 2000 1999 2001 1995 1997 1992]\n",
      "Unique Values in the km_driven  name column:     [ 70000  50000 100000  46000 141000 125000  25000  60000  78000  35000\n",
      "  24000   5000  33000  28000  59000   4500 175900  14500  15000  33800\n",
      " 130400  80000  10000 119000  75800  40000  74000  64000 120000  79000\n",
      "  18500  10200  29000  90000  73300  92000  66764 350000 230000  31000\n",
      "  39000 166000 110000  54000  63000  76000  11958  20000   9000   6500\n",
      "  58000  62200  34000  53000  49000  63500   9800  13000  21000  29173\n",
      "  48000  30000  87000  16000  79350  81000   3600  14272  49213  57000\n",
      "   3240 114000  53772 140000 175000  36000 155500  23000  22155  78380\n",
      " 150000  80362  55000   1136  43000   2650 115962  65000  56000 213000\n",
      " 139000 160000 163000  32000  52000  11240  66000  26500  72000  44000\n",
      " 130000 195000 155000   4000  41000  10832  14681  51000 200000  19600\n",
      "  46730  21170 167223 141440 212814  88635 149674   8000  68000  38000\n",
      "  75000  98000  81925  82080  97000  52047  62009  33100 220000  45000\n",
      " 180000  22000  80577 127500  40903  22288  61690  64484  75976  85962\n",
      "  57035  72104 164000 124439  77000   1250  17152  24005 149000  19000\n",
      " 109000  61000  27633  12586  38083  55328  81632 155201  93283 217871\n",
      "  90165 101504  86017  85036  91086 160254 125531  82000  84000 560000\n",
      "  14365  61083  66363  11700   7104  45974  55340  61585  39415  29654\n",
      "  64672  54634  66521  23974   1000  86000  52600  19890  11918  10510\n",
      "  47162  49824  58500  56580  46507  11451 172000  66508  29900   3000\n",
      "  85000   7900  17500 206500  88600 186000  11000 138000  27974  18000\n",
      "   1400 124000  42000  28205  32670  30093  56228  59319  39503  35299\n",
      "  51687  76259  44049  45087  41125  42215  54206  52547  59110  54565\n",
      "  47564  45143  61624 132000  10980  20629  69782  63654  59385  70378\n",
      "  55425  78413  40890  34823  55545  56541  43700  27483  56207   1440\n",
      "  91195  63657  97248  89000  12000  12997  26430  24600  28481  41988\n",
      "  30375   7658  34400  28942  53600  53652 106000 205000  79500 197000\n",
      "   9161  19077 128000  21302  10500 107000  55300  74300  48781  87620\n",
      "  40219  11473   8352   9745   9748  20694  31080  37605  55850  58850\n",
      "  23839  45454  46957 190000   1500  47000 116000  26350  71042 167870\n",
      " 133564  23038  43608  11212  49217  28838 135000  19571  29600  13500\n",
      "  48600 127643 102354  62237  21394  32686   1001  53261  14000  39895\n",
      "  73000  17000  18591  26766 300000  27620 223000 161327   6000  71000\n",
      " 144000  37000  26000  27000  13250 101000   8500  90246  60400  70950\n",
      "   1100  31491 107143  46412 107500  43826  55838 112880  30300  80659\n",
      "  81324 127884  66755 123084 806599  95851 234000 170000  96000  19014\n",
      "  23262  35925  40771  30500  55800  66569  81358  82695  68293 190621\n",
      "  64700  88470 126000  74183      1 192000  83411  13270  88000   7000\n",
      "  13770 102000 143000 115000 136906 133000  28689  80322  61658 185000\n",
      "  30600 235000  67000  74500 118700 223660   2000  73756  16400  41395\n",
      "  71014 181000  89550 149500  83000  44800 156000 146000  99000  37516\n",
      "  25880 136000   2020  94000  88500  52536   1950 118400   6480  32077\n",
      "  19107  18469  28217  72787  31063  79641  58692  54784  64156   9500\n",
      "  81366 244000 312000 145000   7300  72539    101  52328  91505  20500\n",
      " 154000  41723  68745  27289  24662  28245  27005  39227  31367  35008\n",
      " 100005  45264  39093  45241   2769  43128  22255  59213   1010   1111\n",
      "  48965   5166  76290  45766  78771  79357  76736  92645 101849 155836\n",
      "  63230   1758   1452  35122  92621  92198 152000  78322  54309  34600\n",
      "  38217  77073  16584  81257   3917  69069  59059  39039  33033  55168\n",
      "  41041  67067  66066  82082  70070  63063   9528 135200  50300 151624\n",
      "  74820 129000  66778  63400 157000  38500 103921  14825  43377 102307\n",
      " 245244  68500   5007  49600  43100  10171  41123  20118  52517  99117\n",
      "   3700  43500 137250   5400  11200  93000  62000   5800 267000 250000\n",
      "  28635  32114  95149  68458 105546 104000 132343  26134  52895  42324\n",
      "  60236  10300 142000  28643   7600  47253   4432  68523  80251  34500\n",
      "  42743  93900  55766 113600 138925 121764 105429  23122  44500  13599\n",
      "   5200  12700  95000  45839  74510  87293 156040  93415 101159  68519\n",
      "  55130  65239  58182  91245 102989 108000 178000  75118   4637  42655\n",
      "  69000 117000 105000 182000  24585  13900  17563 173000 151000 117780\n",
      "  81595   9700 221000  28740  48500 148620 270000  41090 296823  89255\n",
      " 168000   5550   1700  45217  44440  91365  90010  31800  59100  31200\n",
      "  22700  50900   2417  65500 140300  10211 260000  32933  54551  57112\n",
      "  41025  53122  64111  78892  74113  84775  20778  64441  43192  44416\n",
      "  79991  62601  89600  60800  69111  20969  20194  34982  44588  57904\n",
      "  59258  60826   1300  31707 115992 109052  90658  25552  40700  11174\n",
      "  72500  76600  97700  37500  23800  44077 210000   9422 240000  17100\n",
      " 224642 222435 159000 101100   1200 134444 238000 165000  63700  74800\n",
      "  60516  76731  63840  76400  31489 295000 158000 400000  19495  62668\n",
      "  85710  63356 129627   4400  14987  25061  42494  44875  89741 347089\n",
      " 222252  55250  12500 162000  22038   2500  89126 134000  42500 131365\n",
      "  48980  98900  13800  99700  49654  45457  39221  48220  11114  60208\n",
      "  98600  85441  64541  16267  71500  12999  14700  92686  49359 108731\n",
      "  29976  30646  23600  71318  78098  18054  38406  54350  32260  58231\n",
      "  59858  73350  88473  96987  77350  61187  68350  81150 280000 105700\n",
      "  37091  38900   9400  14100  37555  56600  67580  48238  38365  23670\n",
      "  49834  57353  68308  63240  64916  37161 118000  50852  53500  51500\n",
      "  79800   6590  49957  43235  50699 140730 256000 218000  66782 112198]\n",
      "Unique Values in the  fuel column:     ['Petrol' 'Diesel' 'CNG' 'LPG' 'Electric']\n",
      "Unique Values in the  seller_type column:     ['Individual' 'Dealer' 'Trustmark Dealer']\n",
      "Unique Values in the  transmission column:     ['Manual' 'Automatic']\n",
      "Unique Values in the  owner column:     ['First Owner' 'Second Owner' 'Fourth & Above Owner' 'Third Owner'\n",
      " 'Test Drive Car']\n"
     ]
    }
   ],
   "source": [
    "print('Unique Values in the Car name column:    ',end=' ')\n",
    "print(cars_df['name'].unique().sum())\n",
    "\n",
    "\n",
    "print('Unique Values in the year  column:    ',end=' ')\n",
    "print(cars_df['year'].unique())\n",
    "\n",
    "\n",
    "print('Unique Values in the km_driven  name column:    ',end=' ')\n",
    "print(cars_df['km_driven'].unique())\n",
    "\n",
    "print('Unique Values in the  fuel column:    ',end=' ')\n",
    "print(cars_df['fuel'].unique())\n",
    "\n",
    "print('Unique Values in the  seller_type column:    ',end=' ')\n",
    "print(cars_df['seller_type'].unique())\n",
    "\n",
    "print('Unique Values in the  transmission column:    ',end=' ')\n",
    "print(cars_df['transmission'].unique())\n",
    "\n",
    "print('Unique Values in the  owner column:    ',end=' ')\n",
    "print(cars_df['owner'].unique())\n"
   ]
  },
  {
   "cell_type": "markdown",
   "id": "38c15e22",
   "metadata": {},
   "source": [
    "#### Seperating the numerical and categorical features"
   ]
  },
  {
   "cell_type": "code",
   "execution_count": 54,
   "id": "3989e61d",
   "metadata": {},
   "outputs": [],
   "source": [
    "numerical_features = [feature for feature in cars_df.columns if cars_df[feature].dtype != 'O']\n",
    "categorical_features = [feature for feature in cars_df.columns if cars_df[feature].dtype == 'O']"
   ]
  },
  {
   "cell_type": "code",
   "execution_count": 56,
   "id": "73cec16d",
   "metadata": {},
   "outputs": [
    {
     "name": "stdout",
     "output_type": "stream",
     "text": [
      "We have 3 numerical features:-  ['year', 'selling_price', 'km_driven']\n",
      "We have 5 categorical features:-  ['name', 'fuel', 'seller_type', 'transmission', 'owner']\n"
     ]
    }
   ],
   "source": [
    "print(f'We have {len(numerical_features)} numerical features:-  {numerical_features}')\n",
    "print(f'We have {len(categorical_features)} categorical features:-  {categorical_features}')"
   ]
  },
  {
   "cell_type": "code",
   "execution_count": 57,
   "id": "2ad58fe3",
   "metadata": {},
   "outputs": [
    {
     "data": {
      "text/html": [
       "<div>\n",
       "<style scoped>\n",
       "    .dataframe tbody tr th:only-of-type {\n",
       "        vertical-align: middle;\n",
       "    }\n",
       "\n",
       "    .dataframe tbody tr th {\n",
       "        vertical-align: top;\n",
       "    }\n",
       "\n",
       "    .dataframe thead th {\n",
       "        text-align: right;\n",
       "    }\n",
       "</style>\n",
       "<table border=\"1\" class=\"dataframe\">\n",
       "  <thead>\n",
       "    <tr style=\"text-align: right;\">\n",
       "      <th></th>\n",
       "      <th>name</th>\n",
       "      <th>year</th>\n",
       "      <th>selling_price</th>\n",
       "      <th>km_driven</th>\n",
       "      <th>fuel</th>\n",
       "      <th>seller_type</th>\n",
       "      <th>transmission</th>\n",
       "      <th>owner</th>\n",
       "    </tr>\n",
       "  </thead>\n",
       "  <tbody>\n",
       "    <tr>\n",
       "      <th>0</th>\n",
       "      <td>Maruti 800 AC</td>\n",
       "      <td>2007</td>\n",
       "      <td>60000</td>\n",
       "      <td>70000</td>\n",
       "      <td>Petrol</td>\n",
       "      <td>Individual</td>\n",
       "      <td>Manual</td>\n",
       "      <td>First Owner</td>\n",
       "    </tr>\n",
       "    <tr>\n",
       "      <th>1</th>\n",
       "      <td>Maruti Wagon R LXI Minor</td>\n",
       "      <td>2007</td>\n",
       "      <td>135000</td>\n",
       "      <td>50000</td>\n",
       "      <td>Petrol</td>\n",
       "      <td>Individual</td>\n",
       "      <td>Manual</td>\n",
       "      <td>First Owner</td>\n",
       "    </tr>\n",
       "  </tbody>\n",
       "</table>\n",
       "</div>"
      ],
      "text/plain": [
       "                       name  year  selling_price  km_driven    fuel  \\\n",
       "0             Maruti 800 AC  2007          60000      70000  Petrol   \n",
       "1  Maruti Wagon R LXI Minor  2007         135000      50000  Petrol   \n",
       "\n",
       "  seller_type transmission        owner  \n",
       "0  Individual       Manual  First Owner  \n",
       "1  Individual       Manual  First Owner  "
      ]
     },
     "execution_count": 57,
     "metadata": {},
     "output_type": "execute_result"
    }
   ],
   "source": [
    "cars_df.head(2)"
   ]
  },
  {
   "cell_type": "markdown",
   "id": "54e618b6",
   "metadata": {},
   "source": [
    "## Data Visuailization"
   ]
  },
  {
   "cell_type": "code",
   "execution_count": 61,
   "id": "fcf7233b",
   "metadata": {},
   "outputs": [
    {
     "data": {
      "image/png": "[encoded data removed]",
      "text/plain": [
       "<Figure size 1500x700 with 2 Axes>"
      ]
     },
     "metadata": {},
     "output_type": "display_data"
    }
   ],
   "source": [
    "fig, axs = plt.subplots(1, 2, figsize=(15, 7))\n",
    "plt.subplot(121)\n",
    "sns.histplot(data=cars_df,x='selling_price',bins=5,kde=True,color='g')\n",
    "plt.subplot(122)\n",
    "sns.histplot(data=cars_df,x='selling_price',kde=True,hue='owner',bins=5)\n",
    "plt.show()"
   ]
  },
  {
   "cell_type": "code",
   "execution_count": 62,
   "id": "144d2908",
   "metadata": {},
   "outputs": [
    {
     "data": {
      "image/png": "[encoded data removed]",
      "text/plain": [
       "<Figure size 1500x700 with 2 Axes>"
      ]
     },
     "metadata": {},
     "output_type": "display_data"
    }
   ],
   "source": [
    "fig, axs = plt.subplots(1, 2, figsize=(15, 7))\n",
    "plt.subplot(121)\n",
    "sns.histplot(data=cars_df,x='selling_price',bins=5,kde=True,color='g')\n",
    "plt.subplot(122)\n",
    "sns.histplot(data=cars_df,x='selling_price',kde=True,hue='fuel',bins=5)\n",
    "plt.show()"
   ]
  },
  {
   "cell_type": "code",
   "execution_count": null,
   "id": "feb8d39c",
   "metadata": {},
   "outputs": [],
   "source": []
  },
  {
   "cell_type": "code",
   "execution_count": null,
   "id": "cddfeed6",
   "metadata": {},
   "outputs": [],
   "source": []
  },
  {
   "cell_type": "code",
   "execution_count": null,
   "id": "fd815c6e",
   "metadata": {},
   "outputs": [],
   "source": []
  }
 ],
 "metadata": {
  "kernelspec": {
   "display_name": "base",
   "language": "python",
   "name": "python3"
  },
  "language_info": {
   "codemirror_mode": {
    "name": "ipython",
    "version": 3
   },
   "file_extension": ".py",
   "mimetype": "text/x-python",
   "name": "python",
   "nbconvert_exporter": "python",
   "pygments_lexer": "ipython3",
   "version": "3.12.7"
  }
 },
 "nbformat": 4,
 "nbformat_minor": 5
}
